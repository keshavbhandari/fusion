{
 "cells": [
  {
   "cell_type": "code",
   "execution_count": 1,
   "metadata": {},
   "outputs": [],
   "source": [
    "import glob\n",
    "import os\n",
    "\n",
    "eval_folder = \"/homes/kb658/fusion/evaluations/\"\n",
    "\n",
    "all_json_files = glob.glob(os.path.join(eval_folder, \"**/*.json\"), recursive=True)"
   ]
  },
  {
   "cell_type": "markdown",
   "metadata": {},
   "source": [
    "## Comparison with AMT"
   ]
  },
  {
   "cell_type": "code",
   "execution_count": null,
   "metadata": {},
   "outputs": [],
   "source": [
    "experiment_5_files = [f for f in all_json_files if \"experiment_5\" in f]\n",
    "experiment_5_directories = set([os.path.dirname(f) for f in experiment_5_files])\n",
    "\n",
    "experiment_6_files = [f for f in all_json_files if \"experiment_6\" in f]\n",
    "experiment_6_directories = set([os.path.dirname(f) for f in experiment_5_files])"
   ]
  },
  {
   "cell_type": "code",
   "execution_count": null,
   "metadata": {},
   "outputs": [],
   "source": [
    "import json\n",
    "import math\n",
    "import pprint\n",
    "\n",
    "def get_metrics_from_file(filepaths):\n",
    "    results = {'num_notes': [], \n",
    "            'note_density': [], \n",
    "            'used_pitch': [], \n",
    "            'pitch_class_kl': [], \n",
    "            'pctm_cosine_sim': [], \n",
    "            'avg_ioi': []}\n",
    "\n",
    "    for f in filepaths:\n",
    "        with open(f, \"r\") as f:\n",
    "            metrics = json.load(f)\n",
    "\n",
    "        for k in results.keys():\n",
    "            results[k].append(metrics[k])\n",
    "\n",
    "    # Average num notes, note density, used pitch, ioi element wise in list\n",
    "    avg_num_notes_original = sum([i[0] for i in results['num_notes']]) / len(results['num_notes'])\n",
    "    avg_num_notes_generated = sum([i[1] for i in results['num_notes']]) / len(results['num_notes'])\n",
    "\n",
    "    avg_note_density_original = sum([i[0] for i in results['note_density']]) / len(results['note_density'])\n",
    "    avg_note_density_generated = sum([i[1] for i in results['note_density']]) / len(results['note_density'])\n",
    "\n",
    "    avg_used_pitch_original = sum([i[0] for i in results['used_pitch']]) / len(results['used_pitch'])\n",
    "    avg_used_pitch_generated = sum([i[1] for i in results['used_pitch']]) / len(results['used_pitch'])\n",
    "\n",
    "    avg_ioi_original = sum([i[0] for i in results['avg_ioi']]) / len(results['avg_ioi'])\n",
    "    avg_ioi_generated = sum([i[1] for i in results['avg_ioi']]) / len(results['avg_ioi'])\n",
    "\n",
    "    avg_pitch_class_kl = sum([i for i in results['pitch_class_kl']]) / len(results['pitch_class_kl'])\n",
    "\n",
    "    # Filter out NaN values\n",
    "    results['pctm_cosine_sim'] = [i for i in results['pctm_cosine_sim'] if not math.isnan(i)]\n",
    "    avg_pctm_cosine_sim = sum([i for i in results['pctm_cosine_sim']]) / len(results['pctm_cosine_sim'])\n",
    "\n",
    "    # Add averages to results\n",
    "    results = {\n",
    "        'num_notes': (avg_num_notes_original, avg_num_notes_generated),\n",
    "        'note_density': (avg_note_density_original, avg_note_density_generated),\n",
    "        'used_pitch': (avg_used_pitch_original, avg_used_pitch_generated),\n",
    "        'pitch_class_kl': avg_pitch_class_kl,\n",
    "        'pctm_cosine_sim': avg_pctm_cosine_sim,\n",
    "        'avg_ioi': (avg_ioi_original, avg_ioi_generated)\n",
    "    }\n",
    "\n",
    "    return results"
   ]
  },
  {
   "cell_type": "code",
   "execution_count": 19,
   "metadata": {},
   "outputs": [
    {
     "name": "stdout",
     "output_type": "stream",
     "text": [
      "{'avg_ioi': (0.13942976033627477, 0.1507879825995296),\n",
      " 'note_density': (32.43775100401606, 49.626506024096386),\n",
      " 'num_notes': (87.81927710843374, 99.25301204819277),\n",
      " 'pctm_cosine_sim': 0.36239926818593476,\n",
      " 'pitch_class_kl': 1.4593494362096295,\n",
      " 'used_pitch': (27.879518072289155, 25.44578313253012)}\n",
      "{'avg_ioi': (0.13942976033627477, 0.1224134601615607),\n",
      " 'note_density': (32.43775100401606, 36.30120481927712),\n",
      " 'num_notes': (87.81927710843374, 95.62650602409639),\n",
      " 'pctm_cosine_sim': 0.4036273144209619,\n",
      " 'pitch_class_kl': 0.8906669396230863,\n",
      " 'used_pitch': (27.879518072289155, 28.783132530120483)}\n"
     ]
    }
   ],
   "source": [
    "amt_filepaths = [os.path.join(f, \"amt_metrics.json\") for f in experiment_5_directories]\n",
    "improvnet_filepaths = [os.path.join(f, \"metrics.json\") for f in experiment_5_directories]\n",
    "\n",
    "amt_metrics = get_metrics_from_file(amt_filepaths)\n",
    "improvnet_metrics = get_metrics_from_file(improvnet_filepaths)\n",
    "\n",
    "pprint.pprint(amt_metrics)\n",
    "pprint.pprint(improvnet_metrics)"
   ]
  },
  {
   "cell_type": "code",
   "execution_count": 22,
   "metadata": {},
   "outputs": [
    {
     "name": "stdout",
     "output_type": "stream",
     "text": [
      "{'avg_ioi': (0.13942976033627477, 0.1507879825995296),\n",
      " 'note_density': (32.43775100401606, 49.626506024096386),\n",
      " 'num_notes': (87.81927710843374, 99.25301204819277),\n",
      " 'pctm_cosine_sim': 0.36239926818593476,\n",
      " 'pitch_class_kl': 1.4593494362096295,\n",
      " 'used_pitch': (27.879518072289155, 25.44578313253012)}\n",
      "{'avg_ioi': (0.13942976033627477, 0.1224134601615607),\n",
      " 'note_density': (32.43775100401606, 36.30120481927712),\n",
      " 'num_notes': (87.81927710843374, 95.62650602409639),\n",
      " 'pctm_cosine_sim': 0.4036273144209619,\n",
      " 'pitch_class_kl': 0.8906669396230863,\n",
      " 'used_pitch': (27.879518072289155, 28.783132530120483)}\n"
     ]
    }
   ],
   "source": [
    "amt_filepaths = [os.path.join(f, \"amt_metrics.json\") for f in experiment_6_directories]\n",
    "improvnet_filepaths = [os.path.join(f, \"metrics.json\") for f in experiment_6_directories]\n",
    "\n",
    "amt_metrics = get_metrics_from_file(amt_filepaths)\n",
    "improvnet_metrics = get_metrics_from_file(improvnet_filepaths)\n",
    "\n",
    "pprint.pprint(amt_metrics)\n",
    "pprint.pprint(improvnet_metrics)"
   ]
  },
  {
   "cell_type": "markdown",
   "metadata": {},
   "source": [
    "## Harmony"
   ]
  },
  {
   "cell_type": "code",
   "execution_count": 2,
   "metadata": {},
   "outputs": [],
   "source": [
    "import json\n",
    "import pprint\n",
    "\n",
    "def get_harmony_metrics(harmony_files):\n",
    "\n",
    "    generated_results = {\n",
    "            'num_notes': [], \n",
    "            'note_density': [], \n",
    "            'used_pitch': [], \n",
    "            'pitch_class_kl': [], \n",
    "            'pctm_cosine_sim': [], \n",
    "            'avg_ioi': [],\n",
    "            'n_pitches': [],\n",
    "            'n_unique_chords': [],\n",
    "            'pitch_in_scale_rate': [],\n",
    "            'pitch_range': [],\n",
    "            'polyphony': [],\n",
    "            'polyphony_rate': [],\n",
    "            'groove_consistency': [],\n",
    "            'tonal_tension_diameter': [],\n",
    "            'tonal_tension_tensile': [],\n",
    "            'tonal_tension_centroid': []\n",
    "            }\n",
    "\n",
    "    original_results = {\n",
    "            'num_notes': [], \n",
    "            'note_density': [], \n",
    "            'used_pitch': [], \n",
    "            'avg_ioi': [],\n",
    "            'n_pitches': [],\n",
    "            'n_unique_chords': [],\n",
    "            'pitch_in_scale_rate': [],\n",
    "            'pitch_range': [],\n",
    "            'polyphony': [],\n",
    "            'polyphony_rate': [],\n",
    "            'groove_consistency': [],\n",
    "            'tonal_tension_diameter': [],\n",
    "            'tonal_tension_tensile': [],\n",
    "            'tonal_tension_centroid': []\n",
    "            }\n",
    "    \n",
    "    monophonic_results = {\n",
    "            'num_notes': [], \n",
    "            'note_density': []\n",
    "            }\n",
    "    \n",
    "    for file in harmony_files:\n",
    "        with open(file, \"r\") as f:\n",
    "            metrics = json.load(f)\n",
    "\n",
    "        for k in generated_results.keys():\n",
    "            if k in metrics['Metric Pairs']:\n",
    "                if type(metrics['Metric Pairs'][k]) == list:\n",
    "                    generated_results[k].append(metrics['Metric Pairs'][k][1])\n",
    "                else:\n",
    "                    generated_results[k].append(metrics['Metric Pairs'][k])\n",
    "            elif k in metrics['Generated MusPy Metrics'][\"pitch_related\"]:\n",
    "                generated_results[k].append(metrics['Generated MusPy Metrics'][\"pitch_related\"][k])\n",
    "            elif k in metrics['Generated MusPy Metrics'][\"rhythm_related\"]:\n",
    "                generated_results[k].append(metrics['Generated MusPy Metrics'][\"rhythm_related\"][k])\n",
    "            elif \"centroid\" in k:\n",
    "                generated_results[k].append(metrics[\"Generated Tonal Tension Diameter\"])\n",
    "            elif \"diameter\" in k:\n",
    "                generated_results[k].append(metrics[\"Generated Tonal Tension Tensile\"])\n",
    "            elif \"tensile\" in k:\n",
    "                generated_results[k].append(metrics[\"Generated Tonal Tension Centroid Diff\"])\n",
    "\n",
    "        for k in original_results.keys():\n",
    "            if k in metrics['Metric Pairs']:\n",
    "                if type(metrics['Metric Pairs'][k]) == list:\n",
    "                    original_results[k].append(metrics['Metric Pairs'][k][0])\n",
    "            elif k in metrics['Original MusPy Metrics'][\"pitch_related\"]:\n",
    "                original_results[k].append(metrics['Original MusPy Metrics'][\"pitch_related\"][k])\n",
    "            elif k in metrics['Original MusPy Metrics'][\"rhythm_related\"]:\n",
    "                original_results[k].append(metrics['Original MusPy Metrics'][\"rhythm_related\"][k])\n",
    "            elif \"centroid\" in k:\n",
    "                original_results[k].append(metrics[\"Original Tonal Tension Diameter\"])\n",
    "            elif \"diameter\" in k:\n",
    "                original_results[k].append(metrics[\"Original Tonal Tension Tensile\"])\n",
    "            elif \"tensile\" in k:\n",
    "                original_results[k].append(metrics[\"Original Tonal Tension Centroid Diff\"])\n",
    "\n",
    "        for k in monophonic_results.keys():\n",
    "            monophonic_results[k].append(metrics['Monophonic Metric Pairs'][k][0])\n",
    "\n",
    "    # Average all values in list\n",
    "    for k in generated_results.keys():\n",
    "        generated_results[k] = sum(generated_results[k]) / len(generated_results[k])\n",
    "    for k in original_results.keys():\n",
    "        original_results[k] = sum(original_results[k]) / len(original_results[k])\n",
    "    for k in monophonic_results.keys():\n",
    "        monophonic_results[k] = sum(monophonic_results[k]) / len(monophonic_results[k])\n",
    "                \n",
    "    return generated_results, original_results, monophonic_results"
   ]
  },
  {
   "cell_type": "markdown",
   "metadata": {},
   "source": [
    "### Classical"
   ]
  },
  {
   "cell_type": "code",
   "execution_count": 3,
   "metadata": {},
   "outputs": [
    {
     "name": "stdout",
     "output_type": "stream",
     "text": [
      "1745\n",
      "580\n",
      "580\n",
      "585\n"
     ]
    }
   ],
   "source": [
    "harmony_files = [f for f in all_json_files if \"harmony\" in f and \"classical\" in f]\n",
    "random_chords_files_constraints = [f for f in harmony_files if \"random_chords\" in f and \"constraints\" in f]\n",
    "generated_files_constraints = [f for f in harmony_files if \"random_chords\" not in f and \"with_constraints\" in f]\n",
    "generated_files_no_constraints = [f for f in harmony_files if \"random_chords\" not in f and \"without_constraints\" in f]\n",
    "\n",
    "# Print length of all files\n",
    "print(len(harmony_files))\n",
    "print(len(random_chords_files_constraints))\n",
    "print(len(generated_files_constraints))\n",
    "print(len(generated_files_no_constraints))"
   ]
  },
  {
   "cell_type": "code",
   "execution_count": 4,
   "metadata": {},
   "outputs": [
    {
     "name": "stdout",
     "output_type": "stream",
     "text": [
      "{'avg_ioi': 0.15442037038237283,\n",
      " 'groove_consistency': 0.9919458949810027,\n",
      " 'n_pitches': 35.82586206896552,\n",
      " 'n_unique_chords': 18.30862068965517,\n",
      " 'note_density': 35.952364957892826,\n",
      " 'num_notes': 586.0155172413793,\n",
      " 'pctm_cosine_sim': 0.7831491786421979,\n",
      " 'pitch_class_kl': 0.3307160384179918,\n",
      " 'pitch_in_scale_rate': 0.8016703430999436,\n",
      " 'pitch_range': 49.29137931034483,\n",
      " 'polyphony': 10.672827605167724,\n",
      " 'polyphony_rate': 0.911866069708051,\n",
      " 'tonal_tension_centroid': 1.8638217622781448,\n",
      " 'tonal_tension_diameter': 0.623134855458608,\n",
      " 'tonal_tension_tensile': 0.5469808436029697,\n",
      " 'used_pitch': 35.82586206896552}\n",
      "{'avg_ioi': 0.28653001901642006,\n",
      " 'groove_consistency': 0.9998109796008848,\n",
      " 'n_pitches': 25.862068965517242,\n",
      " 'n_unique_chords': 13.293103448275861,\n",
      " 'note_density': 19.201245679514017,\n",
      " 'num_notes': 304.17241379310343,\n",
      " 'pitch_in_scale_rate': 0.7940400958441709,\n",
      " 'pitch_range': 34.689655172413794,\n",
      " 'polyphony': 13.328439371162316,\n",
      " 'polyphony_rate': 0.9576767930464862,\n",
      " 'tonal_tension_centroid': 3.2085886451948245,\n",
      " 'tonal_tension_diameter': 0.45732978294261173,\n",
      " 'tonal_tension_tensile': 0.18472970655823226,\n",
      " 'used_pitch': 23.96551724137931}\n",
      "{'note_density': 8.661452408186793, 'num_notes': 125.91379310344827}\n"
     ]
    }
   ],
   "source": [
    "generated_metrics, original_metrics, monophonic_results = get_harmony_metrics(generated_files_constraints)\n",
    "pprint.pprint(generated_metrics)\n",
    "pprint.pprint(original_metrics)\n",
    "pprint.pprint(monophonic_results)"
   ]
  },
  {
   "cell_type": "code",
   "execution_count": 5,
   "metadata": {},
   "outputs": [
    {
     "name": "stdout",
     "output_type": "stream",
     "text": [
      "{'avg_ioi': 0.47616281960577156,\n",
      " 'groove_consistency': 0.9960447409479711,\n",
      " 'n_pitches': 18.242735042735042,\n",
      " 'n_unique_chords': 13.62051282051282,\n",
      " 'note_density': 11.067116856486097,\n",
      " 'num_notes': 166.45811965811967,\n",
      " 'pctm_cosine_sim': 0.7251719505215872,\n",
      " 'pitch_class_kl': 0.5649605433236629,\n",
      " 'pitch_in_scale_rate': 0.8026301232365253,\n",
      " 'pitch_range': 28.96923076923077,\n",
      " 'polyphony': 2.4244561935319395,\n",
      " 'polyphony_rate': 0.24573336007215227,\n",
      " 'tonal_tension_centroid': 0.41776751121499106,\n",
      " 'tonal_tension_diameter': 0.7473532016353547,\n",
      " 'tonal_tension_tensile': 0.7702037484038985,\n",
      " 'used_pitch': 18.242735042735042}\n",
      "{'avg_ioi': 0.2888099221746096,\n",
      " 'groove_consistency': 0.9998117128673026,\n",
      " 'n_pitches': 25.82905982905983,\n",
      " 'n_unique_chords': 13.264957264957266,\n",
      " 'note_density': 19.107217938663474,\n",
      " 'num_notes': 302.62393162393164,\n",
      " 'pitch_in_scale_rate': 0.7950462890923603,\n",
      " 'pitch_range': 34.68376068376068,\n",
      " 'polyphony': 13.306769833359867,\n",
      " 'polyphony_rate': 0.9578652796848044,\n",
      " 'tonal_tension_centroid': 3.20476105491006,\n",
      " 'tonal_tension_diameter': 0.4578800218959723,\n",
      " 'tonal_tension_tensile': 0.18450383059458372,\n",
      " 'used_pitch': 23.923076923076923}\n",
      "{'note_density': 8.628326441328053, 'num_notes': 125.41025641025641}\n"
     ]
    }
   ],
   "source": [
    "generated_metrics, original_metrics, monophonic_results = get_harmony_metrics(generated_files_no_constraints)\n",
    "pprint.pprint(generated_metrics)\n",
    "pprint.pprint(original_metrics)\n",
    "pprint.pprint(monophonic_results)"
   ]
  },
  {
   "cell_type": "code",
   "execution_count": 6,
   "metadata": {},
   "outputs": [
    {
     "name": "stdout",
     "output_type": "stream",
     "text": [
      "{'avg_ioi': 0.15442037038237283,\n",
      " 'groove_consistency': 0.9919455312871803,\n",
      " 'n_pitches': 55.28793103448276,\n",
      " 'n_unique_chords': 37.38620689655173,\n",
      " 'note_density': 35.952364957892826,\n",
      " 'num_notes': 586.0155172413793,\n",
      " 'pctm_cosine_sim': 0.6264484805888032,\n",
      " 'pitch_class_kl': 0.30400444221038014,\n",
      " 'pitch_in_scale_rate': 0.6364044324823606,\n",
      " 'pitch_range': 62.19310344827586,\n",
      " 'polyphony': 5.100670359272729,\n",
      " 'polyphony_rate': 0.7302690584025148,\n",
      " 'tonal_tension_centroid': 2.782422818446298,\n",
      " 'tonal_tension_diameter': 0.9120607382553692,\n",
      " 'tonal_tension_tensile': 0.5321973318983758,\n",
      " 'used_pitch': 55.28793103448276}\n",
      "{'avg_ioi': 0.28653001901642006,\n",
      " 'groove_consistency': 0.9998109796008848,\n",
      " 'n_pitches': 25.862068965517242,\n",
      " 'n_unique_chords': 13.293103448275861,\n",
      " 'note_density': 19.201245679514017,\n",
      " 'num_notes': 304.17241379310343,\n",
      " 'pitch_in_scale_rate': 0.7940400958441709,\n",
      " 'pitch_range': 34.689655172413794,\n",
      " 'polyphony': 13.328439371162316,\n",
      " 'polyphony_rate': 0.9576767930464862,\n",
      " 'tonal_tension_centroid': 3.2085886451948245,\n",
      " 'tonal_tension_diameter': 0.45732978294261173,\n",
      " 'tonal_tension_tensile': 0.18472970655823226,\n",
      " 'used_pitch': 23.96551724137931}\n",
      "{'note_density': 8.705073687516363, 'num_notes': 125.91379310344827}\n"
     ]
    }
   ],
   "source": [
    "generated_metrics, original_metrics, monophonic_results = get_harmony_metrics(random_chords_files_constraints)\n",
    "pprint.pprint(generated_metrics)\n",
    "pprint.pprint(original_metrics)\n",
    "pprint.pprint(monophonic_results)"
   ]
  },
  {
   "cell_type": "markdown",
   "metadata": {},
   "source": [
    "### Jazz"
   ]
  },
  {
   "cell_type": "code",
   "execution_count": 7,
   "metadata": {},
   "outputs": [
    {
     "name": "stdout",
     "output_type": "stream",
     "text": [
      "1755\n",
      "585\n",
      "585\n",
      "585\n"
     ]
    }
   ],
   "source": [
    "harmony_files = [f for f in all_json_files if \"harmony\" in f and \"jazz\" in f]\n",
    "random_chords_files_constraints = [f for f in harmony_files if \"random_chords\" in f and \"constraints\" in f]\n",
    "generated_files_constraints = [f for f in harmony_files if \"random_chords\" not in f and \"with_constraints\" in f]\n",
    "generated_files_no_constraints = [f for f in harmony_files if \"random_chords\" not in f and \"without_constraints\" in f]\n",
    "\n",
    "# Print length of all files\n",
    "print(len(harmony_files))\n",
    "print(len(random_chords_files_constraints))\n",
    "print(len(generated_files_constraints))\n",
    "print(len(generated_files_no_constraints))"
   ]
  },
  {
   "cell_type": "code",
   "execution_count": 8,
   "metadata": {},
   "outputs": [
    {
     "name": "stdout",
     "output_type": "stream",
     "text": [
      "{'avg_ioi': 0.16470294157811796,\n",
      " 'groove_consistency': 0.9917543830518143,\n",
      " 'n_pitches': 37.957264957264954,\n",
      " 'n_unique_chords': 21.246153846153845,\n",
      " 'note_density': 34.487780488162876,\n",
      " 'num_notes': 556.3230769230769,\n",
      " 'pctm_cosine_sim': 0.7716522655264306,\n",
      " 'pitch_class_kl': 0.3551746569700624,\n",
      " 'pitch_in_scale_rate': 0.780263087506738,\n",
      " 'pitch_range': 53.37094017094017,\n",
      " 'polyphony': 10.807139433330866,\n",
      " 'polyphony_rate': 0.9225642639211044,\n",
      " 'tonal_tension_centroid': 2.1117157961713304,\n",
      " 'tonal_tension_diameter': 0.6271673410988967,\n",
      " 'tonal_tension_tensile': 0.5207329033924408,\n",
      " 'used_pitch': 37.957264957264954}\n",
      "{'avg_ioi': 0.2888099221746096,\n",
      " 'groove_consistency': 0.9998117128673026,\n",
      " 'n_pitches': 25.82905982905983,\n",
      " 'n_unique_chords': 13.264957264957266,\n",
      " 'note_density': 19.107217938663474,\n",
      " 'num_notes': 302.62393162393164,\n",
      " 'pitch_in_scale_rate': 0.7950462890923603,\n",
      " 'pitch_range': 34.68376068376068,\n",
      " 'polyphony': 13.306769833359867,\n",
      " 'polyphony_rate': 0.9578652796848044,\n",
      " 'tonal_tension_centroid': 3.20476105491006,\n",
      " 'tonal_tension_diameter': 0.4578800218959723,\n",
      " 'tonal_tension_tensile': 0.18450383059458372,\n",
      " 'used_pitch': 23.923076923076923}\n",
      "{'note_density': 8.628326441328053, 'num_notes': 125.41025641025641}\n"
     ]
    }
   ],
   "source": [
    "generated_metrics, original_metrics, monophonic_results = get_harmony_metrics(generated_files_constraints)\n",
    "pprint.pprint(generated_metrics)\n",
    "pprint.pprint(original_metrics)\n",
    "pprint.pprint(monophonic_results)"
   ]
  },
  {
   "cell_type": "code",
   "execution_count": 9,
   "metadata": {},
   "outputs": [
    {
     "name": "stdout",
     "output_type": "stream",
     "text": [
      "{'avg_ioi': 0.47847792698090486,\n",
      " 'groove_consistency': 0.9958869436783827,\n",
      " 'n_pitches': 18.415384615384614,\n",
      " 'n_unique_chords': 14.403418803418804,\n",
      " 'note_density': 11.308143826810042,\n",
      " 'num_notes': 173.9965811965812,\n",
      " 'pctm_cosine_sim': 0.7207078263228398,\n",
      " 'pitch_class_kl': 0.5261224313030578,\n",
      " 'pitch_in_scale_rate': 0.8007234700880137,\n",
      " 'pitch_range': 29.851282051282052,\n",
      " 'polyphony': 2.4561393029298904,\n",
      " 'polyphony_rate': 0.23366606715765992,\n",
      " 'tonal_tension_centroid': 0.49445170076147965,\n",
      " 'tonal_tension_diameter': 0.7639787577064305,\n",
      " 'tonal_tension_tensile': 0.78056169849884,\n",
      " 'used_pitch': 18.415384615384614}\n",
      "{'avg_ioi': 0.2888099221746096,\n",
      " 'groove_consistency': 0.9998117128673026,\n",
      " 'n_pitches': 25.82905982905983,\n",
      " 'n_unique_chords': 13.264957264957266,\n",
      " 'note_density': 19.107217938663474,\n",
      " 'num_notes': 302.62393162393164,\n",
      " 'pitch_in_scale_rate': 0.7950462890923603,\n",
      " 'pitch_range': 34.68376068376068,\n",
      " 'polyphony': 13.306769833359867,\n",
      " 'polyphony_rate': 0.9578652796848044,\n",
      " 'tonal_tension_centroid': 3.20476105491006,\n",
      " 'tonal_tension_diameter': 0.4578800218959723,\n",
      " 'tonal_tension_tensile': 0.18450383059458372,\n",
      " 'used_pitch': 23.923076923076923}\n",
      "{'note_density': 8.628326441328053, 'num_notes': 125.41025641025641}\n"
     ]
    }
   ],
   "source": [
    "generated_metrics, original_metrics, monophonic_results = get_harmony_metrics(generated_files_no_constraints)\n",
    "pprint.pprint(generated_metrics)\n",
    "pprint.pprint(original_metrics)\n",
    "pprint.pprint(monophonic_results)"
   ]
  },
  {
   "cell_type": "code",
   "execution_count": 10,
   "metadata": {},
   "outputs": [
    {
     "name": "stdout",
     "output_type": "stream",
     "text": [
      "{'avg_ioi': 0.16470294157811796,\n",
      " 'groove_consistency': 0.9917538547748713,\n",
      " 'n_pitches': 55.712820512820514,\n",
      " 'n_unique_chords': 37.67863247863248,\n",
      " 'note_density': 34.494357614740004,\n",
      " 'num_notes': 556.3230769230769,\n",
      " 'pctm_cosine_sim': 0.6312525033268912,\n",
      " 'pitch_class_kl': 0.33595147528204783,\n",
      " 'pitch_in_scale_rate': 0.6395219272574528,\n",
      " 'pitch_range': 65.2991452991453,\n",
      " 'polyphony': 5.431145510938808,\n",
      " 'polyphony_rate': 0.7767833163640842,\n",
      " 'tonal_tension_centroid': 2.9386401972962912,\n",
      " 'tonal_tension_diameter': 0.9157302411204953,\n",
      " 'tonal_tension_tensile': 0.5123366135353165,\n",
      " 'used_pitch': 55.712820512820514}\n",
      "{'avg_ioi': 0.2888099221746096,\n",
      " 'groove_consistency': 0.9998117128673026,\n",
      " 'n_pitches': 25.82905982905983,\n",
      " 'n_unique_chords': 13.264957264957266,\n",
      " 'note_density': 19.107217938663474,\n",
      " 'num_notes': 302.62393162393164,\n",
      " 'pitch_in_scale_rate': 0.7950462890923603,\n",
      " 'pitch_range': 34.68376068376068,\n",
      " 'polyphony': 13.306769833359867,\n",
      " 'polyphony_rate': 0.9578652796848044,\n",
      " 'tonal_tension_centroid': 3.20476105491006,\n",
      " 'tonal_tension_diameter': 0.4578800218959723,\n",
      " 'tonal_tension_tensile': 0.18450383059458372,\n",
      " 'used_pitch': 23.923076923076923}\n",
      "{'note_density': 8.67157488921036, 'num_notes': 125.41025641025641}\n"
     ]
    }
   ],
   "source": [
    "generated_metrics, original_metrics, monophonic_results = get_harmony_metrics(random_chords_files_constraints)\n",
    "pprint.pprint(generated_metrics)\n",
    "pprint.pprint(original_metrics)\n",
    "pprint.pprint(monophonic_results)"
   ]
  }
 ],
 "metadata": {
  "kernelspec": {
   "display_name": "fusion",
   "language": "python",
   "name": "python3"
  },
  "language_info": {
   "codemirror_mode": {
    "name": "ipython",
    "version": 3
   },
   "file_extension": ".py",
   "mimetype": "text/x-python",
   "name": "python",
   "nbconvert_exporter": "python",
   "pygments_lexer": "ipython3",
   "version": "3.1.0"
  }
 },
 "nbformat": 4,
 "nbformat_minor": 2
}
