{
 "cells": [
  {
   "cell_type": "code",
   "execution_count": 1,
   "metadata": {},
   "outputs": [],
   "source": [
    "import glob\n",
    "import os\n",
    "\n",
    "eval_folder = \"/homes/kb658/fusion/evaluations/\"\n",
    "\n",
    "all_json_files = glob.glob(os.path.join(eval_folder, \"**/*.json\"), recursive=True)"
   ]
  },
  {
   "cell_type": "markdown",
   "metadata": {},
   "source": [
    "## Comparison with AMT"
   ]
  },
  {
   "cell_type": "code",
   "execution_count": null,
   "metadata": {},
   "outputs": [],
   "source": [
    "experiment_5_files = [f for f in all_json_files if \"experiment_5\" in f]\n",
    "experiment_5_directories = set([os.path.dirname(f) for f in experiment_5_files])\n",
    "\n",
    "experiment_6_files = [f for f in all_json_files if \"experiment_6\" in f]\n",
    "experiment_6_directories = set([os.path.dirname(f) for f in experiment_5_files])"
   ]
  },
  {
   "cell_type": "code",
   "execution_count": null,
   "metadata": {},
   "outputs": [],
   "source": [
    "import json\n",
    "import math\n",
    "import pprint\n",
    "\n",
    "def get_metrics_from_file(filepaths):\n",
    "    results = {'num_notes': [], \n",
    "            'note_density': [], \n",
    "            'used_pitch': [], \n",
    "            'pitch_class_kl': [], \n",
    "            'pctm_cosine_sim': [], \n",
    "            'avg_ioi': []}\n",
    "\n",
    "    for f in filepaths:\n",
    "        with open(f, \"r\") as f:\n",
    "            metrics = json.load(f)\n",
    "\n",
    "        for k in results.keys():\n",
    "            results[k].append(metrics[k])\n",
    "\n",
    "    # Average num notes, note density, used pitch, ioi element wise in list\n",
    "    avg_num_notes_original = sum([i[0] for i in results['num_notes']]) / len(results['num_notes'])\n",
    "    avg_num_notes_generated = sum([i[1] for i in results['num_notes']]) / len(results['num_notes'])\n",
    "\n",
    "    avg_note_density_original = sum([i[0] for i in results['note_density']]) / len(results['note_density'])\n",
    "    avg_note_density_generated = sum([i[1] for i in results['note_density']]) / len(results['note_density'])\n",
    "\n",
    "    avg_used_pitch_original = sum([i[0] for i in results['used_pitch']]) / len(results['used_pitch'])\n",
    "    avg_used_pitch_generated = sum([i[1] for i in results['used_pitch']]) / len(results['used_pitch'])\n",
    "\n",
    "    avg_ioi_original = sum([i[0] for i in results['avg_ioi']]) / len(results['avg_ioi'])\n",
    "    avg_ioi_generated = sum([i[1] for i in results['avg_ioi']]) / len(results['avg_ioi'])\n",
    "\n",
    "    avg_pitch_class_kl = sum([i for i in results['pitch_class_kl']]) / len(results['pitch_class_kl'])\n",
    "\n",
    "    # Filter out NaN values\n",
    "    results['pctm_cosine_sim'] = [i for i in results['pctm_cosine_sim'] if not math.isnan(i)]\n",
    "    avg_pctm_cosine_sim = sum([i for i in results['pctm_cosine_sim']]) / len(results['pctm_cosine_sim'])\n",
    "\n",
    "    # Add averages to results\n",
    "    results = {\n",
    "        'num_notes': (avg_num_notes_original, avg_num_notes_generated),\n",
    "        'note_density': (avg_note_density_original, avg_note_density_generated),\n",
    "        'used_pitch': (avg_used_pitch_original, avg_used_pitch_generated),\n",
    "        'pitch_class_kl': avg_pitch_class_kl,\n",
    "        'pctm_cosine_sim': avg_pctm_cosine_sim,\n",
    "        'avg_ioi': (avg_ioi_original, avg_ioi_generated)\n",
    "    }\n",
    "\n",
    "    return results"
   ]
  },
  {
   "cell_type": "code",
   "execution_count": 19,
   "metadata": {},
   "outputs": [
    {
     "name": "stdout",
     "output_type": "stream",
     "text": [
      "{'avg_ioi': (0.13942976033627477, 0.1507879825995296),\n",
      " 'note_density': (32.43775100401606, 49.626506024096386),\n",
      " 'num_notes': (87.81927710843374, 99.25301204819277),\n",
      " 'pctm_cosine_sim': 0.36239926818593476,\n",
      " 'pitch_class_kl': 1.4593494362096295,\n",
      " 'used_pitch': (27.879518072289155, 25.44578313253012)}\n",
      "{'avg_ioi': (0.13942976033627477, 0.1224134601615607),\n",
      " 'note_density': (32.43775100401606, 36.30120481927712),\n",
      " 'num_notes': (87.81927710843374, 95.62650602409639),\n",
      " 'pctm_cosine_sim': 0.4036273144209619,\n",
      " 'pitch_class_kl': 0.8906669396230863,\n",
      " 'used_pitch': (27.879518072289155, 28.783132530120483)}\n"
     ]
    }
   ],
   "source": [
    "amt_filepaths = [os.path.join(f, \"amt_metrics.json\") for f in experiment_5_directories]\n",
    "improvnet_filepaths = [os.path.join(f, \"metrics.json\") for f in experiment_5_directories]\n",
    "\n",
    "amt_metrics = get_metrics_from_file(amt_filepaths)\n",
    "improvnet_metrics = get_metrics_from_file(improvnet_filepaths)\n",
    "\n",
    "pprint.pprint(amt_metrics)\n",
    "pprint.pprint(improvnet_metrics)"
   ]
  },
  {
   "cell_type": "code",
   "execution_count": 22,
   "metadata": {},
   "outputs": [
    {
     "name": "stdout",
     "output_type": "stream",
     "text": [
      "{'avg_ioi': (0.13942976033627477, 0.1507879825995296),\n",
      " 'note_density': (32.43775100401606, 49.626506024096386),\n",
      " 'num_notes': (87.81927710843374, 99.25301204819277),\n",
      " 'pctm_cosine_sim': 0.36239926818593476,\n",
      " 'pitch_class_kl': 1.4593494362096295,\n",
      " 'used_pitch': (27.879518072289155, 25.44578313253012)}\n",
      "{'avg_ioi': (0.13942976033627477, 0.1224134601615607),\n",
      " 'note_density': (32.43775100401606, 36.30120481927712),\n",
      " 'num_notes': (87.81927710843374, 95.62650602409639),\n",
      " 'pctm_cosine_sim': 0.4036273144209619,\n",
      " 'pitch_class_kl': 0.8906669396230863,\n",
      " 'used_pitch': (27.879518072289155, 28.783132530120483)}\n"
     ]
    }
   ],
   "source": [
    "amt_filepaths = [os.path.join(f, \"amt_metrics.json\") for f in experiment_6_directories]\n",
    "improvnet_filepaths = [os.path.join(f, \"metrics.json\") for f in experiment_6_directories]\n",
    "\n",
    "amt_metrics = get_metrics_from_file(amt_filepaths)\n",
    "improvnet_metrics = get_metrics_from_file(improvnet_filepaths)\n",
    "\n",
    "pprint.pprint(amt_metrics)\n",
    "pprint.pprint(improvnet_metrics)"
   ]
  },
  {
   "cell_type": "markdown",
   "metadata": {},
   "source": [
    "## Harmony"
   ]
  },
  {
   "cell_type": "code",
   "execution_count": 44,
   "metadata": {},
   "outputs": [],
   "source": [
    "import json\n",
    "import pprint\n",
    "\n",
    "def get_harmony_metrics(harmony_files):\n",
    "\n",
    "    generated_results = {\n",
    "            'num_notes': [], \n",
    "            'note_density': [], \n",
    "            'used_pitch': [], \n",
    "            'pitch_class_kl': [], \n",
    "            'pctm_cosine_sim': [], \n",
    "            'avg_ioi': [],\n",
    "            'n_pitches': [],\n",
    "            'n_unique_chords': [],\n",
    "            'pitch_in_scale_rate': [],\n",
    "            'pitch_range': [],\n",
    "            'polyphony': [],\n",
    "            'polyphony_rate': [],\n",
    "            'groove_consistency': [],\n",
    "            'tonal_tension_diameter': [],\n",
    "            'tonal_tension_tensile': [],\n",
    "            'tonal_tension_centroid': []\n",
    "            }\n",
    "\n",
    "    original_results = {\n",
    "            'num_notes': [], \n",
    "            'note_density': [], \n",
    "            'used_pitch': [], \n",
    "            'avg_ioi': [],\n",
    "            'n_pitches': [],\n",
    "            'n_unique_chords': [],\n",
    "            'pitch_in_scale_rate': [],\n",
    "            'pitch_range': [],\n",
    "            'polyphony': [],\n",
    "            'polyphony_rate': [],\n",
    "            'groove_consistency': [],\n",
    "            'tonal_tension_diameter': [],\n",
    "            'tonal_tension_tensile': [],\n",
    "            'tonal_tension_centroid': []\n",
    "            }\n",
    "    \n",
    "    monophonic_results = {\n",
    "            'num_notes': [], \n",
    "            'note_density': []\n",
    "            }\n",
    "    \n",
    "    for file in harmony_files:\n",
    "        with open(file, \"r\") as f:\n",
    "            metrics = json.load(f)\n",
    "\n",
    "        for k in generated_results.keys():\n",
    "            if k in metrics['Metric Pairs']:\n",
    "                if type(metrics['Metric Pairs'][k]) == list:\n",
    "                    generated_results[k].append(metrics['Metric Pairs'][k][1])\n",
    "                else:\n",
    "                    generated_results[k].append(metrics['Metric Pairs'][k])\n",
    "            elif k in metrics['Generated MusPy Metrics'][\"pitch_related\"]:\n",
    "                generated_results[k].append(metrics['Generated MusPy Metrics'][\"pitch_related\"][k])\n",
    "            elif k in metrics['Generated MusPy Metrics'][\"rhythm_related\"]:\n",
    "                generated_results[k].append(metrics['Generated MusPy Metrics'][\"rhythm_related\"][k])\n",
    "            elif \"centroid\" in k:\n",
    "                generated_results[k].append(metrics[\"Generated Tonal Tension Diameter\"])\n",
    "            elif \"diameter\" in k:\n",
    "                generated_results[k].append(metrics[\"Generated Tonal Tension Tensile\"])\n",
    "            elif \"tensile\" in k:\n",
    "                generated_results[k].append(metrics[\"Generated Tonal Tension Centroid Diff\"])\n",
    "\n",
    "        for k in original_results.keys():\n",
    "            if k in metrics['Metric Pairs']:\n",
    "                if type(metrics['Metric Pairs'][k]) == list:\n",
    "                    original_results[k].append(metrics['Metric Pairs'][k][0])\n",
    "            elif k in metrics['Original MusPy Metrics'][\"pitch_related\"]:\n",
    "                original_results[k].append(metrics['Original MusPy Metrics'][\"pitch_related\"][k])\n",
    "            elif k in metrics['Original MusPy Metrics'][\"rhythm_related\"]:\n",
    "                original_results[k].append(metrics['Original MusPy Metrics'][\"rhythm_related\"][k])\n",
    "            elif \"centroid\" in k:\n",
    "                original_results[k].append(metrics[\"Original Tonal Tension Diameter\"])\n",
    "            elif \"diameter\" in k:\n",
    "                original_results[k].append(metrics[\"Original Tonal Tension Tensile\"])\n",
    "            elif \"tensile\" in k:\n",
    "                original_results[k].append(metrics[\"Original Tonal Tension Centroid Diff\"])\n",
    "\n",
    "        for k in monophonic_results.keys():\n",
    "            monophonic_results[k].append(metrics['Monophonic Metric Pairs'][k][0])\n",
    "\n",
    "    # Average all values in list\n",
    "    for k in generated_results.keys():\n",
    "        generated_results[k] = sum(generated_results[k]) / len(generated_results[k])\n",
    "    for k in original_results.keys():\n",
    "        original_results[k] = sum(original_results[k]) / len(original_results[k])\n",
    "    for k in monophonic_results.keys():\n",
    "        monophonic_results[k] = sum(monophonic_results[k]) / len(monophonic_results[k])\n",
    "                \n",
    "    return generated_results, original_results, monophonic_results"
   ]
  },
  {
   "cell_type": "code",
   "execution_count": 41,
   "metadata": {},
   "outputs": [
    {
     "name": "stdout",
     "output_type": "stream",
     "text": [
      "3500\n",
      "1165\n",
      "1165\n",
      "1170\n"
     ]
    }
   ],
   "source": [
    "harmony_files = [f for f in all_json_files if \"harmony\" in f]\n",
    "random_chords_files_constraints = [f for f in harmony_files if \"random_chords\" in f and \"constraints\" in f]\n",
    "generated_files_constraints = [f for f in harmony_files if \"random_chords\" not in f and \"with_constraints\" in f]\n",
    "generated_files_no_constraints = [f for f in harmony_files if \"random_chords\" not in f and \"without_constraints\" in f]\n",
    "\n",
    "# Print length of all files\n",
    "print(len(harmony_files))\n",
    "print(len(random_chords_files_constraints))\n",
    "print(len(generated_files_constraints))\n",
    "print(len(generated_files_no_constraints))"
   ]
  },
  {
   "cell_type": "code",
   "execution_count": 45,
   "metadata": {},
   "outputs": [
    {
     "name": "stdout",
     "output_type": "stream",
     "text": [
      "{'avg_ioi': 0.15958372158366999,\n",
      " 'groove_consistency': 0.9918497280466027,\n",
      " 'n_pitches': 36.89613733905579,\n",
      " 'n_unique_chords': 19.783690987124462,\n",
      " 'note_density': 35.21692983789978,\n",
      " 'num_notes': 571.1055793991417,\n",
      " 'pctm_cosine_sim': 0.7773760505969426,\n",
      " 'pitch_class_kl': 0.34299783399993283,\n",
      " 'pitch_in_scale_rate': 0.7909207769866156,\n",
      " 'pitch_range': 51.33991416309013,\n",
      " 'polyphony': 10.740271742056516,\n",
      " 'polyphony_rate': 0.9172381243128878,\n",
      " 'tonal_tension_centroid': 1.9883007406708597,\n",
      " 'tonal_tension_diameter': 0.6251597516814147,\n",
      " 'tonal_tension_tensile': 0.5338005474457509,\n",
      " 'used_pitch': 36.89613733905579}\n",
      "{'avg_ioi': 0.2876748630915622,\n",
      " 'groove_consistency': 0.9998113478076276,\n",
      " 'n_pitches': 25.84549356223176,\n",
      " 'n_unique_chords': 13.278969957081545,\n",
      " 'note_density': 19.154030032820796,\n",
      " 'num_notes': 303.3948497854077,\n",
      " 'pitch_in_scale_rate': 0.7945453516812427,\n",
      " 'pitch_range': 34.68669527896996,\n",
      " 'polyphony': 13.317558101106977,\n",
      " 'polyphony_rate': 0.957771440843409,\n",
      " 'tonal_tension_centroid': 3.2066666363393876,\n",
      " 'tonal_tension_diameter': 0.4576060831895769,\n",
      " 'tonal_tension_tensile': 0.1846162838640401,\n",
      " 'used_pitch': 23.94420600858369}\n",
      "{'note_density': 8.644818338991664, 'num_notes': 125.66094420600858}\n"
     ]
    }
   ],
   "source": [
    "generated_metrics, original_metrics, monophonic_results = get_harmony_metrics(generated_files_constraints)\n",
    "pprint.pprint(generated_metrics)\n",
    "pprint.pprint(original_metrics)\n",
    "pprint.pprint(monophonic_results)"
   ]
  },
  {
   "cell_type": "code",
   "execution_count": 46,
   "metadata": {},
   "outputs": [
    {
     "name": "stdout",
     "output_type": "stream",
     "text": [
      "{'avg_ioi': 0.47732037329333765,\n",
      " 'groove_consistency': 0.9959658423131761,\n",
      " 'n_pitches': 18.32905982905983,\n",
      " 'n_unique_chords': 14.011965811965812,\n",
      " 'note_density': 11.187630341648058,\n",
      " 'num_notes': 170.22735042735042,\n",
      " 'pctm_cosine_sim': 0.7229398884222135,\n",
      " 'pitch_class_kl': 0.5455414873133614,\n",
      " 'pitch_in_scale_rate': 0.8016767966622677,\n",
      " 'pitch_range': 29.41025641025641,\n",
      " 'polyphony': 2.440297748230915,\n",
      " 'polyphony_rate': 0.23969971361490583,\n",
      " 'tonal_tension_centroid': 0.4561096059882356,\n",
      " 'tonal_tension_diameter': 0.7556659796708923,\n",
      " 'tonal_tension_tensile': 0.7753827234513683,\n",
      " 'used_pitch': 18.32905982905983}\n",
      "{'avg_ioi': 0.2888099221746094,\n",
      " 'groove_consistency': 0.9998117128673034,\n",
      " 'n_pitches': 25.82905982905983,\n",
      " 'n_unique_chords': 13.264957264957266,\n",
      " 'note_density': 19.10721793866345,\n",
      " 'num_notes': 302.62393162393164,\n",
      " 'pitch_in_scale_rate': 0.7950462890923584,\n",
      " 'pitch_range': 34.68376068376068,\n",
      " 'polyphony': 13.306769833359834,\n",
      " 'polyphony_rate': 0.9578652796848034,\n",
      " 'tonal_tension_centroid': 3.204761054910062,\n",
      " 'tonal_tension_diameter': 0.4578800218959711,\n",
      " 'tonal_tension_tensile': 0.18450383059458417,\n",
      " 'used_pitch': 23.923076923076923}\n",
      "{'note_density': 8.628326441328086, 'num_notes': 125.41025641025641}\n"
     ]
    }
   ],
   "source": [
    "generated_metrics, original_metrics, monophonic_results = get_harmony_metrics(generated_files_no_constraints)\n",
    "pprint.pprint(generated_metrics)\n",
    "pprint.pprint(original_metrics)\n",
    "pprint.pprint(monophonic_results)"
   ]
  },
  {
   "cell_type": "code",
   "execution_count": 47,
   "metadata": {},
   "outputs": [
    {
     "name": "stdout",
     "output_type": "stream",
     "text": [
      "{'avg_ioi': 0.15958372158366999,\n",
      " 'groove_consistency': 0.9918492817080373,\n",
      " 'n_pitches': 55.50128755364807,\n",
      " 'n_unique_chords': 37.53304721030043,\n",
      " 'note_density': 35.22023251519387,\n",
      " 'num_notes': 571.1055793991417,\n",
      " 'pctm_cosine_sim': 0.628860801019517,\n",
      " 'pitch_class_kl': 0.3200465146111745,\n",
      " 'pitch_in_scale_rate': 0.6379698697728563,\n",
      " 'pitch_range': 63.75278969957082,\n",
      " 'polyphony': 5.266617109250974,\n",
      " 'polyphony_rate': 0.7536260033875086,\n",
      " 'tonal_tension_centroid': 2.860866738298016,\n",
      " 'tonal_tension_diameter': 0.9139033641575995,\n",
      " 'tonal_tension_tensile': 0.5222243531495426,\n",
      " 'used_pitch': 55.50128755364807}\n",
      "{'avg_ioi': 0.2876748630915622,\n",
      " 'groove_consistency': 0.9998113478076276,\n",
      " 'n_pitches': 25.84549356223176,\n",
      " 'n_unique_chords': 13.278969957081545,\n",
      " 'note_density': 19.154030032820796,\n",
      " 'num_notes': 303.3948497854077,\n",
      " 'pitch_in_scale_rate': 0.7945453516812427,\n",
      " 'pitch_range': 34.68669527896996,\n",
      " 'polyphony': 13.317558101106977,\n",
      " 'polyphony_rate': 0.957771440843409,\n",
      " 'tonal_tension_centroid': 3.2066666363393876,\n",
      " 'tonal_tension_diameter': 0.4576060831895769,\n",
      " 'tonal_tension_tensile': 0.1846162838640401,\n",
      " 'used_pitch': 23.94420600858369}\n",
      "{'note_density': 8.688252402530116, 'num_notes': 125.66094420600858}\n"
     ]
    }
   ],
   "source": [
    "generated_metrics, original_metrics, monophonic_results = get_harmony_metrics(random_chords_files_constraints)\n",
    "pprint.pprint(generated_metrics)\n",
    "pprint.pprint(original_metrics)\n",
    "pprint.pprint(monophonic_results)"
   ]
  }
 ],
 "metadata": {
  "kernelspec": {
   "display_name": "fusion",
   "language": "python",
   "name": "python3"
  },
  "language_info": {
   "codemirror_mode": {
    "name": "ipython",
    "version": 3
   },
   "file_extension": ".py",
   "mimetype": "text/x-python",
   "name": "python",
   "nbconvert_exporter": "python",
   "pygments_lexer": "ipython3",
   "version": "3.10.14"
  }
 },
 "nbformat": 4,
 "nbformat_minor": 2
}
