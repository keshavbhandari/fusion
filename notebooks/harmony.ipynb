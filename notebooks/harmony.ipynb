{
 "cells": [
  {
   "cell_type": "code",
   "execution_count": 3,
   "metadata": {},
   "outputs": [],
   "source": [
    "import os\n",
    "import random\n",
    "import pretty_midi\n",
    "from tqdm import tqdm\n",
    "\n",
    "\n",
    "def load_midi(file_path):\n",
    "    return pretty_midi.PrettyMIDI(file_path)\n",
    "\n",
    "def is_chord(note_events):\n",
    "    return len(note_events) > 1\n",
    "\n",
    "def modify_chord(chord_notes):\n",
    "    # Sort notes by pitch in descending order\n",
    "    chord_notes.sort(key=lambda note: note.pitch, reverse=True)\n",
    "    highest_pitch = chord_notes[0].pitch\n",
    "\n",
    "    # Keep highest pitch the same, change others within range\n",
    "    for note in chord_notes[1:]:\n",
    "        note.pitch += random.randint(-24, 24)\n",
    "\n",
    "    # Ensure highest pitch note remains the same\n",
    "    chord_notes[0].pitch = highest_pitch\n",
    "\n",
    "def process_midi(file_path, output_path):\n",
    "    midi_data = load_midi(file_path)\n",
    "    for instrument in midi_data.instruments:\n",
    "        if instrument.is_drum:\n",
    "            continue\n",
    "        \n",
    "        active_notes = []\n",
    "        for note in instrument.notes:\n",
    "            # Check if current notes are overlapping (part of a chord)\n",
    "            if active_notes and note.start < active_notes[-1].end:\n",
    "                active_notes.append(note)\n",
    "            else:\n",
    "                # Process the current chord\n",
    "                if is_chord(active_notes):\n",
    "                    modify_chord(active_notes)\n",
    "                active_notes = [note]  # Start a new chord\n",
    "        \n",
    "        # Modify any remaining chord after loop\n",
    "        if is_chord(active_notes):\n",
    "            modify_chord(active_notes)\n",
    "\n",
    "    # Write out the modified MIDI file\n",
    "    midi_data.write(output_path)\n",
    "    print(f\"Modified MIDI saved to: {output_path}\")\n",
    "\n",
    "def run_harmonize_random_notes(midi_file_paths):\n",
    "    for midi_file_path in tqdm(midi_file_paths):\n",
    "        output_folder = os.path.dirname(midi_file_path)\n",
    "        output_path = os.path.join(output_folder, \"random_chords.mid\")\n",
    "        process_midi(midi_file_path, output_path)\n",
    "        print(f\"Processed file: {midi_file_path}\")\n",
    "    print(\"All MIDI files processed\")"
   ]
  },
  {
   "cell_type": "code",
   "execution_count": 4,
   "metadata": {},
   "outputs": [
    {
     "name": "stderr",
     "output_type": "stream",
     "text": [
      "100%|██████████| 1/1 [00:00<00:00,  6.16it/s]"
     ]
    },
    {
     "name": "stdout",
     "output_type": "stream",
     "text": [
      "Modified MIDI saved to: /homes/kb658/fusion/input/random_chords.mid\n",
      "Processed file: /homes/kb658/fusion/input/original_Johnny Marks - Rudolph The Red-Nosed Reindeer.mid\n",
      "All MIDI files processed\n"
     ]
    },
    {
     "name": "stderr",
     "output_type": "stream",
     "text": [
      "\n"
     ]
    }
   ],
   "source": [
    "run_harmonize_random_notes([\"/homes/kb658/fusion/input/Monophonic_Johnny Marks - Rudolph The Red-Nosed Reindeer.mid\"])"
   ]
  },
  {
   "cell_type": "code",
   "execution_count": 2,
   "metadata": {},
   "outputs": [
    {
     "name": "stderr",
     "output_type": "stream",
     "text": [
      "100%|██████████| 1/1 [00:00<00:00, 17.15it/s]"
     ]
    },
    {
     "name": "stdout",
     "output_type": "stream",
     "text": [
      "Harmonized MIDI saved to: /homes/kb658/fusion/input/harmonized_melody.mid\n",
      "Processed file: /homes/kb658/fusion/input/monophonic_Dave Brubeck, Iola Brubeck - When I Was Young.mid\n",
      "All MIDI files processed.\n"
     ]
    },
    {
     "name": "stderr",
     "output_type": "stream",
     "text": [
      "\n"
     ]
    }
   ],
   "source": [
    "import os\n",
    "import random\n",
    "import pretty_midi\n",
    "from tqdm import tqdm\n",
    "\n",
    "\n",
    "def load_midi(file_path):\n",
    "    return pretty_midi.PrettyMIDI(file_path)\n",
    "\n",
    "\n",
    "def generate_random_chord(melody_note, num_notes=3, pitch_range=12):\n",
    "    \"\"\"\n",
    "    Generate a random chord for a given melody note.\n",
    "    - `num_notes`: Number of additional notes in the chord.\n",
    "    - `pitch_range`: Range of semitones to choose for harmonizing notes.\n",
    "    \"\"\"\n",
    "    chord_notes = []\n",
    "    for _ in range(num_notes):\n",
    "        offset = random.randint(-pitch_range, pitch_range)\n",
    "        chord_pitch = melody_note.pitch + offset\n",
    "        # Create a new note based on the melody note\n",
    "        harmonized_note = pretty_midi.Note(\n",
    "            velocity=melody_note.velocity,\n",
    "            pitch=chord_pitch,\n",
    "            start=melody_note.start,\n",
    "            end=melody_note.end,\n",
    "        )\n",
    "        chord_notes.append(harmonized_note)\n",
    "    return chord_notes\n",
    "\n",
    "\n",
    "def harmonize_melody(file_path, output_path, num_chord_notes=3, pitch_range=12):\n",
    "    midi_data = load_midi(file_path)\n",
    "    for instrument in midi_data.instruments:\n",
    "        if instrument.is_drum:\n",
    "            continue\n",
    "        \n",
    "        new_notes = []\n",
    "        for note in instrument.notes:\n",
    "            # Keep the melody note\n",
    "            new_notes.append(note)\n",
    "            if random.random() < 0.5:\n",
    "                # Add harmonizing random chord notes\n",
    "                random_chord = generate_random_chord(\n",
    "                    note, num_notes=num_chord_notes, pitch_range=pitch_range\n",
    "                )\n",
    "                new_notes.extend(random_chord)\n",
    "        \n",
    "        # Replace the instrument's notes with the harmonized ones\n",
    "        instrument.notes = new_notes\n",
    "\n",
    "    # Write the harmonized MIDI file\n",
    "    midi_data.write(output_path)\n",
    "    print(f\"Harmonized MIDI saved to: {output_path}\")\n",
    "\n",
    "\n",
    "def run_harmonize_random_chords(midi_file_paths, num_chord_notes=3, pitch_range=12):\n",
    "    for midi_file_path in tqdm(midi_file_paths):\n",
    "        output_folder = os.path.dirname(midi_file_path)\n",
    "        output_path = os.path.join(output_folder, \"harmonized_melody.mid\")\n",
    "        harmonize_melody(midi_file_path, output_path, num_chord_notes, pitch_range)\n",
    "        print(f\"Processed file: {midi_file_path}\")\n",
    "    print(\"All MIDI files processed.\")\n",
    "\n",
    "\n",
    "# Example usage\n",
    "midi_files = [\"/homes/kb658/fusion/input/monophonic_Dave Brubeck, Iola Brubeck - When I Was Young.mid\"]\n",
    "run_harmonize_random_chords(midi_files, num_chord_notes=3, pitch_range=24)\n"
   ]
  },
  {
   "cell_type": "code",
   "execution_count": 22,
   "metadata": {},
   "outputs": [
    {
     "name": "stdout",
     "output_type": "stream",
     "text": [
      "Monophonic melody saved as /homes/kb658/fusion/input/monophonic_Peter Drischel - Slow Motion (Transcribed Blues Sax).mid\n"
     ]
    }
   ],
   "source": [
    "import os\n",
    "import random\n",
    "import pretty_midi\n",
    "from tqdm import tqdm\n",
    "os.sys.path.append('/homes/kb658/fusion')\n",
    "from utils.utils import xml_to_monophonic_midi\n",
    "\n",
    "musicxml_file = \"/homes/kb658/fusion/input/Peter Drischel - Slow Motion (Transcribed Blues Sax).mxl\"\n",
    "midi_output_file = \"/homes/kb658/fusion/input/monophonic_Peter Drischel - Slow Motion (Transcribed Blues Sax).mid\"\n",
    "\n",
    "xml_to_monophonic_midi(musicxml_file, midi_output_file)"
   ]
  },
  {
   "cell_type": "code",
   "execution_count": 16,
   "metadata": {},
   "outputs": [],
   "source": [
    "import pretty_midi\n",
    "\n",
    "def modify_midi_track(input_file, output_file, start_time, end_time, new_track_index):\n",
    "    \"\"\"\n",
    "    Modifies a MIDI file, changing the track of all notes between start_time and end_time\n",
    "    to the specified new_track_index while preserving the instrument.\n",
    "\n",
    "    Args:\n",
    "        input_file (str): Path to the input MIDI file.\n",
    "        output_file (str): Path to save the modified MIDI file.\n",
    "        start_time (float): Start time in seconds for the range to modify.\n",
    "        end_time (float): End time in seconds for the range to modify.\n",
    "        new_track_index (int): The new track index for notes within the specified time range.\n",
    "    \"\"\"\n",
    "    # Load the MIDI file\n",
    "    midi_file = pretty_midi.PrettyMIDI(input_file)\n",
    "    \n",
    "    # Create a new PrettyMIDI object for the output\n",
    "    output_midi = pretty_midi.PrettyMIDI()\n",
    "    \n",
    "    # Iterate through all instruments in the MIDI file\n",
    "    for instrument in midi_file.instruments:\n",
    "        # Create a new instrument for output (with the same program and is_drum property)\n",
    "        modified_instrument = pretty_midi.Instrument(program=new_track_index, is_drum=instrument.is_drum)\n",
    "        original_instrument = pretty_midi.Instrument(program=instrument.program, is_drum=instrument.is_drum)\n",
    "        \n",
    "        # Separate notes into modified and unmodified based on the time range\n",
    "        for note in instrument.notes:\n",
    "            if start_time <= note.start <= end_time:\n",
    "                # Add note to the modified instrument (simulating the new track)\n",
    "                modified_instrument.notes.append(note)\n",
    "            else:\n",
    "                # Add note to the original instrument\n",
    "                original_instrument.notes.append(note)\n",
    "        \n",
    "        # Add both instruments to the output MIDI\n",
    "        output_midi.instruments.append(original_instrument)\n",
    "        output_midi.instruments.append(modified_instrument)\n",
    "    \n",
    "    # Save the modified MIDI file\n",
    "    output_midi.write(output_file)\n",
    "\n",
    "\n",
    "# Modify all notes between 20 and 40 seconds to track 1, saving to a new file\n",
    "# Usage\n",
    "modify_midi_track(\"/homes/kb658/fusion/input/generated_original_10.mid\", \"/homes/kb658/fusion/input/generated_original_10_separated.mid\", start_time=20, end_time=40, new_track_index=1)\n"
   ]
  },
  {
   "cell_type": "code",
   "execution_count": 15,
   "metadata": {},
   "outputs": [
    {
     "name": "stdout",
     "output_type": "stream",
     "text": [
      "Program: 0\n",
      "Program: 1\n",
      "Instrument: \n"
     ]
    }
   ],
   "source": [
    "import pretty_midi\n",
    "\n",
    "def print_unique_programs(midi_file):\n",
    "    # Load the MIDI file\n",
    "    midi_data = pretty_midi.PrettyMIDI(midi_file)\n",
    "\n",
    "    # Create a set to store unique programs\n",
    "    unique_programs = set()\n",
    "    unique_instruments = set()\n",
    "\n",
    "    # Iterate over all instruments\n",
    "    for instrument in midi_data.instruments:\n",
    "        # Iterate over all notes in the instrument\n",
    "        for note in instrument.notes:\n",
    "            # Add the program to the set\n",
    "            unique_programs.add(instrument.program)\n",
    "            unique_instruments.add(instrument.name)\n",
    "\n",
    "    # Print the unique programs\n",
    "    for program in unique_programs:\n",
    "        print(f\"Program: {program}\")\n",
    "\n",
    "    # Print the unique instruments\n",
    "    for instrument in unique_instruments:\n",
    "        print(f\"Instrument: {instrument}\")\n",
    "\n",
    "# Usage\n",
    "midi_file = \"/homes/kb658/fusion/input/amt_inpainted_separated.mid\"\n",
    "print_unique_programs(midi_file)\n"
   ]
  },
  {
   "cell_type": "code",
   "execution_count": 17,
   "metadata": {},
   "outputs": [],
   "source": [
    "import pretty_midi\n",
    "\n",
    "def modify_midi(input_file, output_file, start_time, end_time):\n",
    "    \"\"\"\n",
    "    Modifies a MIDI file, changing the track of all notes between start_time and end_time\n",
    "    to the specified new_track_index while preserving the instrument.\n",
    "\n",
    "    Args:\n",
    "        input_file (str): Path to the input MIDI file.\n",
    "        output_file (str): Path to save the modified MIDI file.\n",
    "        start_time (float): Start time in seconds for the range to modify.\n",
    "        end_time (float): End time in seconds for the range to modify.\n",
    "        new_track_index (int): The new track index for notes within the specified time range.\n",
    "    \"\"\"\n",
    "    # Load the MIDI file\n",
    "    midi_file = pretty_midi.PrettyMIDI(input_file)\n",
    "    \n",
    "    # Create a new PrettyMIDI object for the output\n",
    "    output_midi = pretty_midi.PrettyMIDI()\n",
    "    \n",
    "    # Iterate through all instruments in the MIDI file\n",
    "    for instrument in midi_file.instruments:\n",
    "        # Create the original instrument for output (with the same program and is_drum property)\n",
    "        original_instrument = pretty_midi.Instrument(program=instrument.program, is_drum=instrument.is_drum)\n",
    "        \n",
    "        # Separate notes into modified and unmodified based on the time range\n",
    "        for note in instrument.notes:\n",
    "            if start_time <= note.start <= end_time:\n",
    "                # Do not add note to the original instrument\n",
    "                continue\n",
    "            else:\n",
    "                # Add note to the original instrument\n",
    "                original_instrument.notes.append(note)\n",
    "        \n",
    "        # Add both instruments to the output MIDI\n",
    "        output_midi.instruments.append(original_instrument)\n",
    "    \n",
    "    # Save the modified MIDI file\n",
    "    output_midi.write(output_file)\n",
    "\n",
    "\n",
    "# Modify all notes between 20 and 40 seconds to track 1, saving to a new file\n",
    "# Usage\n",
    "modify_midi(\"/homes/kb658/fusion/input/original_original_10.mid\", \"/homes/kb658/fusion/input/original_original_10_separated.mid\", start_time=20, end_time=40)\n"
   ]
  }
 ],
 "metadata": {
  "kernelspec": {
   "display_name": "fusion",
   "language": "python",
   "name": "python3"
  },
  "language_info": {
   "codemirror_mode": {
    "name": "ipython",
    "version": 3
   },
   "file_extension": ".py",
   "mimetype": "text/x-python",
   "name": "python",
   "nbconvert_exporter": "python",
   "pygments_lexer": "ipython3",
   "version": "3.10.14"
  }
 },
 "nbformat": 4,
 "nbformat_minor": 2
}
