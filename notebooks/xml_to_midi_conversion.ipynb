{
 "cells": [
  {
   "cell_type": "code",
   "execution_count": 1,
   "metadata": {},
   "outputs": [
    {
     "name": "stdout",
     "output_type": "stream",
     "text": [
      "Loaded parts: ['Violin']\n",
      "All tracks saved as piano MIDI in original_& Nobel Prize Winner), Charles Gate Dawes (V.P. of U.S.A., Carl Sigman - It's All In The Game.mid\n",
      "Monophonic melody saved as monophonic_& Nobel Prize Winner), Charles Gate Dawes (V.P. of U.S.A., Carl Sigman - It's All In The Game.mid\n"
     ]
    },
    {
     "name": "stderr",
     "output_type": "stream",
     "text": [
      "/homes/kb658/.conda/envs/fusion/lib/python3.10/site-packages/music21/stream/base.py:3694: Music21DeprecationWarning: .flat is deprecated.  Call .flatten() instead\n",
      "  return self.iter().getElementsByClass(classFilterList)\n"
     ]
    }
   ],
   "source": [
    "from music21 import converter, instrument, stream, note\n",
    "import os\n",
    "\n",
    "def xml_to_monophonic_midi(musicxml_file, midi_output_file):\n",
    "    # Load the MusicXML file\n",
    "    score = converter.parse(musicxml_file)\n",
    "\n",
    "    # Assuming the monophonic melody is in the first part (usually in leadsheets)\n",
    "    # You may need to adjust if the monophonic part is in a different part\n",
    "    melody_part = score.parts[0]\n",
    "\n",
    "    # Filter out any chord symbols (only keeping monophonic notes)\n",
    "    melody_notes = stream.Stream()\n",
    "    # Iterate through elements and only add individual notes, ignoring chords and other elements\n",
    "    for elem in melody_part.flat.notesAndRests:  # 'flat' allows for easier access to all notes/rests\n",
    "        if isinstance(elem, note.Note):  # Add only individual notes, no chords\n",
    "            melody_notes.append(elem)\n",
    "        elif isinstance(elem, note.Rest):  # If you want to keep rests in the melody\n",
    "            melody_notes.append(elem)\n",
    "\n",
    "    # Set the instrument to Piano\n",
    "    piano_instrument = instrument.Piano()\n",
    "    melody_notes.insert(0, piano_instrument)\n",
    "\n",
    "    # Save the melody as a MIDI file\n",
    "    melody_notes.write('midi', midi_output_file)\n",
    "\n",
    "    print(f\"Monophonic melody saved as {midi_output_file}\")\n",
    "\n",
    "\n",
    "def xml_to_midi(musicxml_file, midi_output_file):\n",
    "    \n",
    "    # Load the MusicXML file\n",
    "    score = converter.parse(musicxml_file)\n",
    "\n",
    "    # Print the part names (optional, for debugging)\n",
    "    print(f\"Loaded parts: {[p.partName for p in score.parts]}\")\n",
    "\n",
    "    # Create a new stream to hold all converted parts\n",
    "    piano_score = stream.Stream()\n",
    "\n",
    "    # Loop through each part in the score\n",
    "    for part in score.parts:\n",
    "        # Create a new stream for the piano part\n",
    "        piano_part = stream.Part()\n",
    "        \n",
    "        # Set the instrument to piano (MIDI program number for acoustic piano is 0)\n",
    "        piano_instrument = instrument.Piano()\n",
    "        piano_part.insert(0, piano_instrument)\n",
    "        \n",
    "        # Add all the notes and rests from the original part to the new piano part\n",
    "        for elem in part.flat.notesAndRests:\n",
    "            piano_part.append(elem)\n",
    "        \n",
    "        # Append the piano part to the new score\n",
    "        piano_score.append(piano_part)\n",
    "\n",
    "    # Save the entire score as a MIDI file\n",
    "    piano_score.write('midi', midi_output_file)\n",
    "\n",
    "    print(f\"All tracks saved as piano MIDI in {midi_output_file}\")\n",
    "\n",
    "\n",
    "# Call the function to convert the MusicXML file to a MIDI file with all parts as piano\n",
    "musicxml_file = \"/homes/kb658/fusion/evaluations/harmony/& Nobel Prize Winner), Charles Gate Dawes (V.P. of U.S.A., Carl Sigman - It's All In The Game.mxl\"\n",
    "midi_dir = os.path.dirname(musicxml_file)\n",
    "midi_output_file = 'original_' + os.path.basename(musicxml_file).replace(\".mxl\", \".mid\")\n",
    "midi_output_file = os.path.join(midi_dir, midi_output_file)\n",
    "xml_to_midi(musicxml_file, midi_output_file)\n",
    "\n",
    "# Call the function to convert the MusicXML file to a monophonic MIDI file\n",
    "midi_output_file = 'monophonic_' + os.path.basename(musicxml_file).replace(\".mxl\", \".mid\")\n",
    "midi_output_file = os.path.join(midi_dir, midi_output_file)\n",
    "xml_to_monophonic_midi(musicxml_file, midi_output_file)\n"
   ]
  },
  {
   "cell_type": "code",
   "execution_count": null,
   "metadata": {},
   "outputs": [],
   "source": []
  }
 ],
 "metadata": {
  "kernelspec": {
   "display_name": "fusion",
   "language": "python",
   "name": "python3"
  },
  "language_info": {
   "codemirror_mode": {
    "name": "ipython",
    "version": 3
   },
   "file_extension": ".py",
   "mimetype": "text/x-python",
   "name": "python",
   "nbconvert_exporter": "python",
   "pygments_lexer": "ipython3",
   "version": "3.10.14"
  }
 },
 "nbformat": 4,
 "nbformat_minor": 2
}
